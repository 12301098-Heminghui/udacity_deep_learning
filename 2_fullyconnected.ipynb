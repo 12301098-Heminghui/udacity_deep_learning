{
 "cells": [
  {
   "cell_type": "markdown",
   "metadata": {
    "colab_type": "text",
    "id": "kR-4eNdK6lYS"
   },
   "source": [
    "Deep Learning\n",
    "=============\n",
    "\n",
    "Assignment 2\n",
    "------------\n",
    "\n",
    "Previously in `1_notmnist.ipynb`, we created a pickle with formatted datasets for training, development and testing on the [notMNIST dataset](http://yaroslavvb.blogspot.com/2011/09/notmnist-dataset.html).\n",
    "\n",
    "The goal of this assignment is to progressively train deeper and more accurate models using TensorFlow."
   ]
  },
  {
   "cell_type": "code",
   "execution_count": 1,
   "metadata": {
    "cellView": "both",
    "colab": {
     "autoexec": {
      "startup": false,
      "wait_interval": 0
     }
    },
    "colab_type": "code",
    "id": "JLpLa8Jt7Vu4"
   },
   "outputs": [],
   "source": [
    "# These are all the modules we'll be using later. Make sure you can import them\n",
    "# before proceeding further.\n",
    "from __future__ import print_function\n",
    "import numpy as np\n",
    "import tensorflow as tf\n",
    "from six.moves import cPickle as pickle\n",
    "from six.moves import range\n",
    "import os"
   ]
  },
  {
   "cell_type": "markdown",
   "metadata": {
    "colab_type": "text",
    "id": "1HrCK6e17WzV"
   },
   "source": [
    "First reload the data we generated in `1_notmnist.ipynb`."
   ]
  },
  {
   "cell_type": "code",
   "execution_count": 2,
   "metadata": {
    "cellView": "both",
    "colab": {
     "autoexec": {
      "startup": false,
      "wait_interval": 0
     },
     "output_extras": [
      {
       "item_id": 1
      }
     ]
    },
    "colab_type": "code",
    "executionInfo": {
     "elapsed": 19456,
     "status": "ok",
     "timestamp": 1449847956073,
     "user": {
      "color": "",
      "displayName": "",
      "isAnonymous": false,
      "isMe": true,
      "permissionId": "",
      "photoUrl": "",
      "sessionId": "0",
      "userId": ""
     },
     "user_tz": 480
    },
    "id": "y3-cj1bpmuxc",
    "outputId": "0ddb1607-1fc4-4ddb-de28-6c7ab7fb0c33"
   },
   "outputs": [
    {
     "name": "stdout",
     "output_type": "stream",
     "text": [
      "Training set (200000, 28, 28) (200000,)\n",
      "Validation set (10000, 28, 28) (10000,)\n",
      "Test set (10000, 28, 28) (10000,)\n"
     ]
    }
   ],
   "source": [
    "data_root = './raw_picture' # Change me to store data elsewhere\n",
    "\n",
    "pickle_file = 'notMNIST.pickle'\n",
    "\n",
    "with open(os.path.join(data_root,pickle_file), 'rb') as f:\n",
    "  save = pickle.load(f)\n",
    "  train_dataset = save['train_dataset']\n",
    "  train_labels = save['train_labels']\n",
    "  valid_dataset = save['valid_dataset']\n",
    "  valid_labels = save['valid_labels']\n",
    "  test_dataset = save['test_dataset']\n",
    "  test_labels = save['test_labels']\n",
    "  del save  # hint to help gc free up memory\n",
    "  print('Training set', train_dataset.shape, train_labels.shape)\n",
    "  print('Validation set', valid_dataset.shape, valid_labels.shape)\n",
    "  print('Test set', test_dataset.shape, test_labels.shape)"
   ]
  },
  {
   "cell_type": "markdown",
   "metadata": {
    "colab_type": "text",
    "id": "L7aHrm6nGDMB"
   },
   "source": [
    "Reformat into a shape that's more adapted to the models we're going to train:\n",
    "- data as a flat matrix,\n",
    "- labels as float 1-hot encodings."
   ]
  },
  {
   "cell_type": "code",
   "execution_count": 3,
   "metadata": {
    "cellView": "both",
    "colab": {
     "autoexec": {
      "startup": false,
      "wait_interval": 0
     },
     "output_extras": [
      {
       "item_id": 1
      }
     ]
    },
    "colab_type": "code",
    "executionInfo": {
     "elapsed": 19723,
     "status": "ok",
     "timestamp": 1449847956364,
     "user": {
      "color": "",
      "displayName": "",
      "isAnonymous": false,
      "isMe": true,
      "permissionId": "",
      "photoUrl": "",
      "sessionId": "0",
      "userId": ""
     },
     "user_tz": 480
    },
    "id": "IRSyYiIIGIzS",
    "outputId": "2ba0fc75-1487-4ace-a562-cf81cae82793"
   },
   "outputs": [
    {
     "name": "stdout",
     "output_type": "stream",
     "text": [
      "(200000,)\n",
      "Training set (200000, 784) (200000, 10)\n",
      "Validation set (10000, 784) (10000, 10)\n",
      "Test set (10000, 784) (10000, 10)\n"
     ]
    }
   ],
   "source": [
    "image_size = 28\n",
    "num_labels = 10\n",
    "\n",
    "print (train_labels.shape)\n",
    "\n",
    "def reformat(dataset, labels):\n",
    "  dataset = dataset.reshape((-1, image_size * image_size)).astype(np.float32)\n",
    "  # Map 0 to [1.0, 0.0, 0.0 ...], 1 to [0.0, 1.0, 0.0 ...]\n",
    "  labels = (np.arange(num_labels) == labels[:,None]).astype(np.float32)\n",
    "  return dataset, labels\n",
    "\n",
    "train_dataset, train_labels = reformat(train_dataset, train_labels)\n",
    "valid_dataset, valid_labels = reformat(valid_dataset, valid_labels)\n",
    "test_dataset, test_labels = reformat(test_dataset, test_labels)\n",
    "print('Training set', train_dataset.shape, train_labels.shape)\n",
    "print('Validation set', valid_dataset.shape, valid_labels.shape)\n",
    "print('Test set', test_dataset.shape, test_labels.shape)"
   ]
  },
  {
   "cell_type": "markdown",
   "metadata": {
    "colab_type": "text",
    "id": "nCLVqyQ5vPPH"
   },
   "source": [
    "We're first going to train a multinomial logistic regression using simple gradient descent.\n",
    "\n",
    "TensorFlow works like this:\n",
    "* First you describe the computation that you want to see performed: what the inputs, the variables, and the operations look like. These get created as nodes over a computation graph. This description is all contained within the block below:\n",
    "\n",
    "      with graph.as_default():\n",
    "          ...\n",
    "\n",
    "* Then you can run the operations on this graph as many times as you want by calling `session.run()`, providing it outputs to fetch from the graph that get returned. This runtime operation is all contained in the block below:\n",
    "\n",
    "      with tf.Session(graph=graph) as session:\n",
    "          ...\n",
    "\n",
    "Let's load all the data into TensorFlow and build the computation graph corresponding to our training:"
   ]
  },
  {
   "cell_type": "code",
   "execution_count": 15,
   "metadata": {
    "cellView": "both",
    "colab": {
     "autoexec": {
      "startup": false,
      "wait_interval": 0
     }
    },
    "colab_type": "code",
    "id": "Nfv39qvtvOl_"
   },
   "outputs": [],
   "source": [
    "# With gradient descent training, even this much data is prohibitive.\n",
    "# Subset the training data for faster turnaround.\n",
    "train_subset = 100000\n",
    "\n",
    "graph = tf.Graph()\n",
    "with graph.as_default():\n",
    "\n",
    "  # Input data.\n",
    "  # Load the training, validation and test data into constants that are\n",
    "  # attached to the graph.\n",
    "  tf_train_dataset = tf.constant(train_dataset[:train_subset, :])\n",
    "  tf_train_labels = tf.constant(train_labels[:train_subset])\n",
    "  tf_valid_dataset = tf.constant(valid_dataset)\n",
    "  tf_test_dataset = tf.constant(test_dataset)\n",
    "  \n",
    "  # Variables.\n",
    "  # These are the parameters that we are going to be training. The weight\n",
    "  # matrix will be initialized using random values following a (truncated)\n",
    "  # normal distribution. The biases get initialized to zero.\n",
    "  weights = tf.Variable(\n",
    "    tf.truncated_normal([image_size * image_size, num_labels]))\n",
    "  biases = tf.Variable(tf.zeros([num_labels]))\n",
    "  \n",
    "  # Training computation.\n",
    "  # We multiply the inputs with the weight matrix, and add biases. We compute\n",
    "  # the softmax and cross-entropy (it's one operation in TensorFlow, because\n",
    "  # it's very common, and it can be optimized). We take the average of this\n",
    "  # cross-entropy across all training examples: that's our loss.\n",
    "  logits = tf.matmul(tf_train_dataset, weights) + biases\n",
    "  loss = tf.reduce_mean(\n",
    "    tf.nn.softmax_cross_entropy_with_logits(labels=tf_train_labels, logits=logits))\n",
    "  \n",
    "  # Optimizer.\n",
    "  # We are going to find the minimum of this loss using gradient descent.\n",
    "  optimizer = tf.train.GradientDescentOptimizer(0.5).minimize(loss)\n",
    "  \n",
    "  # Predictions for the training, validation, and test data.\n",
    "  # These are not part of training, but merely here so that we can report\n",
    "  # accuracy figures as we train.\n",
    "  train_prediction = tf.nn.softmax(logits)\n",
    "  valid_prediction = tf.nn.softmax(\n",
    "    tf.matmul(tf_valid_dataset, weights) + biases)\n",
    "  test_prediction = tf.nn.softmax(tf.matmul(tf_test_dataset, weights) + biases)"
   ]
  },
  {
   "cell_type": "markdown",
   "metadata": {
    "colab_type": "text",
    "id": "KQcL4uqISHjP"
   },
   "source": [
    "Let's run this computation and iterate:"
   ]
  },
  {
   "cell_type": "code",
   "execution_count": 16,
   "metadata": {
    "cellView": "both",
    "colab": {
     "autoexec": {
      "startup": false,
      "wait_interval": 0
     },
     "output_extras": [
      {
       "item_id": 9
      }
     ]
    },
    "colab_type": "code",
    "executionInfo": {
     "elapsed": 57454,
     "status": "ok",
     "timestamp": 1449847994134,
     "user": {
      "color": "",
      "displayName": "",
      "isAnonymous": false,
      "isMe": true,
      "permissionId": "",
      "photoUrl": "",
      "sessionId": "0",
      "userId": ""
     },
     "user_tz": 480
    },
    "id": "z2cjdenH869W",
    "outputId": "4c037ba1-b526-4d8e-e632-91e2a0333267"
   },
   "outputs": [
    {
     "name": "stdout",
     "output_type": "stream",
     "text": [
      "Initialized\n",
      "Loss at step 0: 21.920757\n",
      "Training accuracy: 4.5%\n",
      "Validation accuracy: 7.0%\n",
      "Loss at step 100: 2.477068\n",
      "Training accuracy: 70.8%\n",
      "Validation accuracy: 70.7%\n",
      "Loss at step 200: 2.033210\n",
      "Training accuracy: 73.8%\n",
      "Validation accuracy: 73.2%\n",
      "Loss at step 300: 1.802619\n",
      "Training accuracy: 75.0%\n",
      "Validation accuracy: 73.9%\n",
      "Loss at step 400: 1.649534\n",
      "Training accuracy: 75.6%\n",
      "Validation accuracy: 74.6%\n",
      "Loss at step 500: 1.537196\n",
      "Training accuracy: 76.1%\n",
      "Validation accuracy: 75.2%\n",
      "Loss at step 600: 1.449408\n",
      "Training accuracy: 76.4%\n",
      "Validation accuracy: 75.5%\n",
      "Loss at step 700: 1.377781\n",
      "Training accuracy: 76.6%\n",
      "Validation accuracy: 75.7%\n",
      "Loss at step 800: 1.317629\n",
      "Training accuracy: 76.9%\n",
      "Validation accuracy: 76.1%\n",
      "Loss at step 900: 1.266008\n",
      "Training accuracy: 77.1%\n",
      "Validation accuracy: 76.2%\n",
      "Loss at step 1000: 1.221018\n",
      "Training accuracy: 77.4%\n",
      "Validation accuracy: 76.4%\n",
      "Loss at step 1100: 1.181418\n",
      "Training accuracy: 77.5%\n",
      "Validation accuracy: 76.5%\n",
      "Loss at step 1200: 1.146240\n",
      "Training accuracy: 77.8%\n",
      "Validation accuracy: 76.6%\n",
      "Loss at step 1300: 1.114692\n",
      "Training accuracy: 77.9%\n",
      "Validation accuracy: 76.8%\n",
      "Loss at step 1400: 1.086265\n",
      "Training accuracy: 78.1%\n",
      "Validation accuracy: 77.0%\n",
      "Loss at step 1500: 1.060492\n",
      "Training accuracy: 78.3%\n",
      "Validation accuracy: 77.0%\n",
      "Loss at step 1600: 1.037027\n",
      "Training accuracy: 78.5%\n",
      "Validation accuracy: 77.2%\n",
      "Loss at step 1700: 1.015598\n",
      "Training accuracy: 78.6%\n",
      "Validation accuracy: 77.3%\n",
      "Loss at step 1800: 0.995942\n",
      "Training accuracy: 78.7%\n",
      "Validation accuracy: 77.4%\n",
      "Loss at step 1900: 0.977824\n",
      "Training accuracy: 78.9%\n",
      "Validation accuracy: 77.5%\n",
      "Loss at step 2000: 0.961114\n",
      "Training accuracy: 79.0%\n",
      "Validation accuracy: 77.7%\n",
      "Loss at step 2100: 0.945611\n",
      "Training accuracy: 79.1%\n",
      "Validation accuracy: 78.0%\n",
      "Loss at step 2200: 0.931233\n",
      "Training accuracy: 79.2%\n",
      "Validation accuracy: 78.1%\n",
      "Loss at step 2300: 0.917841\n",
      "Training accuracy: 79.3%\n",
      "Validation accuracy: 78.3%\n",
      "Loss at step 2400: 0.905318\n",
      "Training accuracy: 79.4%\n",
      "Validation accuracy: 78.4%\n",
      "Loss at step 2500: 0.893611\n",
      "Training accuracy: 79.6%\n",
      "Validation accuracy: 78.5%\n",
      "Loss at step 2600: 0.882621\n",
      "Training accuracy: 79.6%\n",
      "Validation accuracy: 78.5%\n",
      "Loss at step 2700: 0.872279\n",
      "Training accuracy: 79.8%\n",
      "Validation accuracy: 78.6%\n",
      "Loss at step 2800: 0.862553\n",
      "Training accuracy: 79.8%\n",
      "Validation accuracy: 78.7%\n",
      "Loss at step 2900: 0.853379\n",
      "Training accuracy: 79.9%\n",
      "Validation accuracy: 78.8%\n",
      "Loss at step 3000: 0.844690\n",
      "Training accuracy: 80.0%\n",
      "Validation accuracy: 78.9%\n",
      "Loss at step 3100: 0.836483\n",
      "Training accuracy: 80.1%\n",
      "Validation accuracy: 78.9%\n",
      "Loss at step 3200: 0.828666\n",
      "Training accuracy: 80.2%\n",
      "Validation accuracy: 79.0%\n",
      "Loss at step 3300: 0.821258\n",
      "Training accuracy: 80.2%\n",
      "Validation accuracy: 79.0%\n",
      "Loss at step 3400: 0.814205\n",
      "Training accuracy: 80.3%\n",
      "Validation accuracy: 79.1%\n",
      "Loss at step 3500: 0.807503\n",
      "Training accuracy: 80.4%\n",
      "Validation accuracy: 79.2%\n",
      "Loss at step 3600: 0.801107\n",
      "Training accuracy: 80.5%\n",
      "Validation accuracy: 79.3%\n",
      "Loss at step 3700: 0.795004\n",
      "Training accuracy: 80.6%\n",
      "Validation accuracy: 79.3%\n",
      "Loss at step 3800: 0.789161\n",
      "Training accuracy: 80.6%\n",
      "Validation accuracy: 79.3%\n",
      "Loss at step 3900: 0.783573\n",
      "Training accuracy: 80.7%\n",
      "Validation accuracy: 79.4%\n",
      "Loss at step 4000: 0.778243\n",
      "Training accuracy: 80.8%\n",
      "Validation accuracy: 79.4%\n",
      "Loss at step 4100: 0.773114\n",
      "Training accuracy: 80.9%\n",
      "Validation accuracy: 79.5%\n",
      "Loss at step 4200: 0.768197\n",
      "Training accuracy: 80.9%\n",
      "Validation accuracy: 79.5%\n",
      "Loss at step 4300: 0.763473\n",
      "Training accuracy: 81.0%\n",
      "Validation accuracy: 79.6%\n",
      "Loss at step 4400: 0.758946\n",
      "Training accuracy: 81.1%\n",
      "Validation accuracy: 79.7%\n",
      "Loss at step 4500: 0.754598\n",
      "Training accuracy: 81.1%\n",
      "Validation accuracy: 79.8%\n",
      "Loss at step 4600: 0.750405\n",
      "Training accuracy: 81.2%\n",
      "Validation accuracy: 79.8%\n",
      "Loss at step 4700: 0.746373\n",
      "Training accuracy: 81.2%\n",
      "Validation accuracy: 79.8%\n",
      "Loss at step 4800: 0.742493\n",
      "Training accuracy: 81.2%\n",
      "Validation accuracy: 79.9%\n",
      "Loss at step 4900: 0.738746\n",
      "Training accuracy: 81.3%\n",
      "Validation accuracy: 80.0%\n",
      "Loss at step 5000: 0.735136\n",
      "Training accuracy: 81.4%\n",
      "Validation accuracy: 80.0%\n",
      "Loss at step 5100: 0.731651\n",
      "Training accuracy: 81.4%\n",
      "Validation accuracy: 80.1%\n",
      "Loss at step 5200: 0.728304\n",
      "Training accuracy: 81.4%\n",
      "Validation accuracy: 80.1%\n",
      "Loss at step 5300: 0.725055\n",
      "Training accuracy: 81.5%\n",
      "Validation accuracy: 80.1%\n",
      "Loss at step 5400: 0.721920\n",
      "Training accuracy: 81.5%\n",
      "Validation accuracy: 80.2%\n",
      "Loss at step 5500: 0.718889\n",
      "Training accuracy: 81.6%\n",
      "Validation accuracy: 80.2%\n",
      "Loss at step 5600: 0.715954\n",
      "Training accuracy: 81.6%\n",
      "Validation accuracy: 80.3%\n",
      "Loss at step 5700: 0.713107\n",
      "Training accuracy: 81.7%\n",
      "Validation accuracy: 80.3%\n",
      "Loss at step 5800: 0.710366\n",
      "Training accuracy: 81.7%\n",
      "Validation accuracy: 80.3%\n",
      "Loss at step 5900: 0.707704\n",
      "Training accuracy: 81.8%\n",
      "Validation accuracy: 80.3%\n",
      "Loss at step 6000: 0.705148\n",
      "Training accuracy: 81.8%\n",
      "Validation accuracy: 80.3%\n",
      "Loss at step 6100: 0.702644\n",
      "Training accuracy: 81.9%\n",
      "Validation accuracy: 80.3%\n",
      "Loss at step 6200: 0.700228\n",
      "Training accuracy: 81.9%\n",
      "Validation accuracy: 80.4%\n",
      "Loss at step 6300: 0.697874\n",
      "Training accuracy: 82.0%\n",
      "Validation accuracy: 80.4%\n",
      "Loss at step 6400: 0.695592\n",
      "Training accuracy: 82.0%\n",
      "Validation accuracy: 80.4%\n",
      "Loss at step 6500: 0.693383\n",
      "Training accuracy: 82.0%\n",
      "Validation accuracy: 80.5%\n",
      "Loss at step 6600: 0.691240\n",
      "Training accuracy: 82.1%\n",
      "Validation accuracy: 80.5%\n",
      "Loss at step 6700: 0.689159\n",
      "Training accuracy: 82.1%\n",
      "Validation accuracy: 80.6%\n",
      "Loss at step 6800: 0.687132\n",
      "Training accuracy: 82.1%\n",
      "Validation accuracy: 80.6%\n",
      "Loss at step 6900: 0.685163\n",
      "Training accuracy: 82.2%\n",
      "Validation accuracy: 80.7%\n",
      "Loss at step 7000: 0.683268\n",
      "Training accuracy: 82.2%\n",
      "Validation accuracy: 80.8%\n",
      "Loss at step 7100: 0.681406\n",
      "Training accuracy: 82.2%\n",
      "Validation accuracy: 80.8%\n",
      "Loss at step 7200: 0.679603\n",
      "Training accuracy: 82.2%\n",
      "Validation accuracy: 80.8%\n",
      "Loss at step 7300: 0.677842\n",
      "Training accuracy: 82.3%\n",
      "Validation accuracy: 80.8%\n",
      "Loss at step 7400: 0.676129\n",
      "Training accuracy: 82.3%\n",
      "Validation accuracy: 80.8%\n",
      "Loss at step 7500: 0.674459\n",
      "Training accuracy: 82.3%\n",
      "Validation accuracy: 80.8%\n",
      "Loss at step 7600: 0.672830\n",
      "Training accuracy: 82.4%\n",
      "Validation accuracy: 80.8%\n",
      "Loss at step 7700: 0.671253\n",
      "Training accuracy: 82.4%\n",
      "Validation accuracy: 80.9%\n",
      "Test accuracy: 88.5%\n"
     ]
    }
   ],
   "source": [
    "num_steps = 7800\n",
    "\n",
    "def accuracy(predictions, labels):\n",
    "  return (100.0 * np.sum(np.argmax(predictions, 1) == np.argmax(labels, 1))\n",
    "          / predictions.shape[0])\n",
    "\n",
    "with tf.Session(graph=graph) as session:\n",
    "  # This is a one-time operation which ensures the parameters get initialized as\n",
    "  # we described in the graph: random weights for the matrix, zeros for the\n",
    "  # biases. \n",
    "  tf.initialize_all_variables().run()\n",
    "  print('Initialized')\n",
    "  for step in range(num_steps):\n",
    "    # Run the computations. We tell .run() that we want to run the optimizer,\n",
    "    # and get the loss value and the training predictions returned as numpy\n",
    "    # arrays.\n",
    "    _, l, predictions = session.run([optimizer, loss, train_prediction])\n",
    "    if (step % 100 == 0):\n",
    "      print('Loss at step %d: %f' % (step, l))\n",
    "      print('Training accuracy: %.1f%%' % accuracy(\n",
    "        predictions, train_labels[:train_subset, :]))\n",
    "      # Calling .eval() on valid_prediction is basically like calling run(), but\n",
    "      # just to get that one numpy array. Note that it recomputes all its graph\n",
    "      # dependencies.\n",
    "      print('Validation accuracy: %.1f%%' % accuracy(\n",
    "        valid_prediction.eval(), valid_labels))\n",
    "  print('Test accuracy: %.1f%%' % accuracy(test_prediction.eval(), test_labels))"
   ]
  },
  {
   "cell_type": "markdown",
   "metadata": {
    "colab_type": "text",
    "id": "x68f-hxRGm3H"
   },
   "source": [
    "Let's now switch to stochastic gradient descent training instead, which is much faster.\n",
    "\n",
    "The graph will be similar, except that instead of holding all the training data into a constant node, we create a `Placeholder` node which will be fed actual data at every call of `session.run()`."
   ]
  },
  {
   "cell_type": "code",
   "execution_count": 0,
   "metadata": {
    "cellView": "both",
    "colab": {
     "autoexec": {
      "startup": false,
      "wait_interval": 0
     }
    },
    "colab_type": "code",
    "id": "qhPMzWYRGrzM"
   },
   "outputs": [],
   "source": [
    "batch_size = 128\n",
    "\n",
    "graph = tf.Graph()\n",
    "with graph.as_default():\n",
    "\n",
    "  # Input data. For the training data, we use a placeholder that will be fed\n",
    "  # at run time with a training minibatch.\n",
    "  tf_train_dataset = tf.placeholder(tf.float32,\n",
    "                                    shape=(batch_size, image_size * image_size))\n",
    "  tf_train_labels = tf.placeholder(tf.float32, shape=(batch_size, num_labels))\n",
    "  tf_valid_dataset = tf.constant(valid_dataset)\n",
    "  tf_test_dataset = tf.constant(test_dataset)\n",
    "  \n",
    "  # Variables.\n",
    "  weights = tf.Variable(\n",
    "    tf.truncated_normal([image_size * image_size, num_labels]))\n",
    "  biases = tf.Variable(tf.zeros([num_labels]))\n",
    "  \n",
    "  # Training computation.\n",
    "  logits = tf.matmul(tf_train_dataset, weights) + biases\n",
    "  loss = tf.reduce_mean(\n",
    "    tf.nn.softmax_cross_entropy_with_logits(labels=tf_train_labels, logits=logits))\n",
    "  \n",
    "  # Optimizer.\n",
    "  optimizer = tf.train.GradientDescentOptimizer(0.5).minimize(loss)\n",
    "  \n",
    "  # Predictions for the training, validation, and test data.\n",
    "  train_prediction = tf.nn.softmax(logits)\n",
    "  valid_prediction = tf.nn.softmax(\n",
    "    tf.matmul(tf_valid_dataset, weights) + biases)\n",
    "  test_prediction = tf.nn.softmax(tf.matmul(tf_test_dataset, weights) + biases)"
   ]
  },
  {
   "cell_type": "markdown",
   "metadata": {
    "colab_type": "text",
    "id": "XmVZESmtG4JH"
   },
   "source": [
    "Let's run it:"
   ]
  },
  {
   "cell_type": "code",
   "execution_count": 0,
   "metadata": {
    "cellView": "both",
    "colab": {
     "autoexec": {
      "startup": false,
      "wait_interval": 0
     },
     "output_extras": [
      {
       "item_id": 6
      }
     ]
    },
    "colab_type": "code",
    "executionInfo": {
     "elapsed": 66292,
     "status": "ok",
     "timestamp": 1449848003013,
     "user": {
      "color": "",
      "displayName": "",
      "isAnonymous": false,
      "isMe": true,
      "permissionId": "",
      "photoUrl": "",
      "sessionId": "0",
      "userId": ""
     },
     "user_tz": 480
    },
    "id": "FoF91pknG_YW",
    "outputId": "d255c80e-954d-4183-ca1c-c7333ce91d0a"
   },
   "outputs": [
    {
     "name": "stdout",
     "output_type": "stream",
     "text": [
      "Initialized\n",
      "Minibatch loss at step 0 : 16.8091\n",
      "Minibatch accuracy: 12.5%\n",
      "Validation accuracy: 14.0%\n",
      "Minibatch loss at step 500 : 1.75256\n",
      "Minibatch accuracy: 77.3%\n",
      "Validation accuracy: 75.0%\n",
      "Minibatch loss at step 1000 : 1.32283\n",
      "Minibatch accuracy: 77.3%\n",
      "Validation accuracy: 76.6%\n",
      "Minibatch loss at step 1500 : 0.944533\n",
      "Minibatch accuracy: 83.6%\n",
      "Validation accuracy: 76.5%\n",
      "Minibatch loss at step 2000 : 1.03795\n",
      "Minibatch accuracy: 78.9%\n",
      "Validation accuracy: 77.8%\n",
      "Minibatch loss at step 2500 : 1.10219\n",
      "Minibatch accuracy: 80.5%\n",
      "Validation accuracy: 78.0%\n",
      "Minibatch loss at step 3000 : 0.758874\n",
      "Minibatch accuracy: 82.8%\n",
      "Validation accuracy: 78.8%\n",
      "Test accuracy: 86.1%\n"
     ]
    }
   ],
   "source": [
    "num_steps = 3001\n",
    "\n",
    "with tf.Session(graph=graph) as session:\n",
    "  tf.global_variables_initializer().run()\n",
    "  print(\"Initialized\")\n",
    "  for step in range(num_steps):\n",
    "    # Pick an offset within the training data, which has been randomized.\n",
    "    # Note: we could use better randomization across epochs.\n",
    "    offset = (step * batch_size) % (train_labels.shape[0] - batch_size)\n",
    "    # Generate a minibatch.\n",
    "    batch_data = train_dataset[offset:(offset + batch_size), :]\n",
    "    batch_labels = train_labels[offset:(offset + batch_size), :]\n",
    "    # Prepare a dictionary telling the session where to feed the minibatch.\n",
    "    # The key of the dictionary is the placeholder node of the graph to be fed,\n",
    "    # and the value is the numpy array to feed to it.\n",
    "    feed_dict = {tf_train_dataset : batch_data, tf_train_labels : batch_labels}\n",
    "    _, l, predictions = session.run(\n",
    "      [optimizer, loss, train_prediction], feed_dict=feed_dict)\n",
    "    if (step % 500 == 0):\n",
    "      print(\"Minibatch loss at step %d: %f\" % (step, l))\n",
    "      print(\"Minibatch accuracy: %.1f%%\" % accuracy(predictions, batch_labels))\n",
    "      print(\"Validation accuracy: %.1f%%\" % accuracy(\n",
    "        valid_prediction.eval(), valid_labels))\n",
    "  print(\"Test accuracy: %.1f%%\" % accuracy(test_prediction.eval(), test_labels))"
   ]
  },
  {
   "cell_type": "markdown",
   "metadata": {
    "colab_type": "text",
    "id": "7omWxtvLLxik"
   },
   "source": [
    "---\n",
    "Problem\n",
    "-------\n",
    "\n",
    "Turn the logistic regression example with SGD into a 1-hidden layer neural network with rectified linear units [nn.relu()](https://www.tensorflow.org/versions/r0.7/api_docs/python/nn.html#relu) and 1024 hidden nodes. This model should improve your validation / test accuracy.\n",
    "\n",
    "---"
   ]
  },
  {
   "cell_type": "code",
   "execution_count": 9,
   "metadata": {},
   "outputs": [],
   "source": [
    "# 构建一个隐层的神经网络\n",
    "# 第一步：建构图结构\n",
    "def add_layer(inputs, in_size, out_size, activation_function=None):\n",
    "    weights = tf.Variable(tf.truncated_normal([in_size, out_size]))\n",
    "    bias = tf.Variable(tf.zeros([1,out_size])+0.1)\n",
    "    wx_plus_b = tf.matmul(inputs, weights) + bias\n",
    "    if activation_function is None:\n",
    "        outputs = wx_plus_b\n",
    "    else:\n",
    "        outputs = activation_function(wx_plus_b)\n",
    "    return weights, bias, outputs\n",
    "\n",
    "\n",
    "def tf_nn_accuracy(predictions, labels):\n",
    "    correct_prediction = tf.equal(tf.argmax(predictions,1),tf.argmax(labels,1))       #高维度的\n",
    "    acuracy = tf.reduce_mean(tf.cast(correct_prediction,tf.float32))    #要用reduce_mean\n",
    "    return acuracy\n",
    "\n",
    "\n",
    "graph = tf.Graph()\n",
    "with graph.as_default():\n",
    "    \n",
    "    batch_size = tf.placeholder(tf.int32, [])\n",
    "    \n",
    "    input_x = tf.placeholder(tf.float32, [None, image_size*image_size])\n",
    "    input_y = tf.placeholder(tf.float32, [None, num_labels])\n",
    "    \n",
    "    # hidden layer\n",
    "    hl_weights, hl_bias, hl_outpus = add_layer(input_x, image_size*image_size, 1024, tf.nn.relu)\n",
    "    # output layer\n",
    "    ol_weights, ol_bias, ol_outputs = add_layer(hl_outpus, 1024, 10) # 隐层的输出作为下一层的输入\n",
    "    \n",
    "    # loss\n",
    "    logits = tf.matmul(hl_outpus, ol_weights) + ol_bias\n",
    "    \n",
    "    loss = tf.reduce_mean(\n",
    "    tf.nn.softmax_cross_entropy_with_logits(labels=input_y, logits=ol_outputs))\n",
    "    \n",
    "     # Optimizer.\n",
    "    optimizer = tf.train.GradientDescentOptimizer(0.01).minimize(loss)\n",
    "  \n",
    "    # 用于保存模型的函数\n",
    "    saver = tf.train.Saver()\n",
    "    \n",
    "    y_pre = tf.nn.softmax(logits)\n",
    "    \n",
    "    _accuracy = tf_nn_accuracy(y_pre, input_y)"
   ]
  },
  {
   "cell_type": "code",
   "execution_count": 10,
   "metadata": {},
   "outputs": [
    {
     "name": "stdout",
     "output_type": "stream",
     "text": [
      "(100000, 10)\n",
      "Initialized\n",
      "Minibatch loss at step 0: 346.648132, train accuracy: 0.132812\n",
      "Minibatch loss at step 100: 430.980316, train accuracy: 0.070312\n",
      "Minibatch loss at step 200: 332.568726, train accuracy: 0.125000\n",
      "Minibatch loss at step 300: 281.746002, train accuracy: 0.101562\n",
      "Minibatch loss at step 400: 417.263000, train accuracy: 0.148438\n",
      "Minibatch loss at step 500: 361.332092, train accuracy: 0.031250\n",
      "Minibatch loss at step 600: 252.233505, train accuracy: 0.140625\n",
      "Minibatch loss at step 700: 356.446716, train accuracy: 0.132812\n",
      "Minibatch loss at step 800: 360.138733, train accuracy: 0.078125\n",
      "Minibatch loss at step 900: 284.247437, train accuracy: 0.109375\n"
     ]
    },
    {
     "ename": "RuntimeError",
     "evalue": "Attempted to use a closed Session.",
     "output_type": "error",
     "traceback": [
      "\u001b[0;31m---------------------------------------------------------------------------\u001b[0m",
      "\u001b[0;31mRuntimeError\u001b[0m                              Traceback (most recent call last)",
      "\u001b[0;32m<ipython-input-10-a2a77702f96d>\u001b[0m in \u001b[0;36m<module>\u001b[0;34m()\u001b[0m\n\u001b[1;32m     29\u001b[0m \u001b[0;34m\u001b[0m\u001b[0m\n\u001b[1;32m     30\u001b[0m valid_loss, valid_accuracy = session.run([loss, _accuracy], feed_dict=\n\u001b[0;32m---> 31\u001b[0;31m                                               {input_x: valid_dataset, input_y: valid_labels, batch_size: valid_dataset.shape[0]})\n\u001b[0m\u001b[1;32m     32\u001b[0m \u001b[0;32mprint\u001b[0m \u001b[0;34m(\u001b[0m\u001b[0;34m\"Validation loss: %.1f%%, Validation accuracy: %f\"\u001b[0m \u001b[0;34m%\u001b[0m \u001b[0;34m(\u001b[0m\u001b[0mvalid_loss\u001b[0m\u001b[0;34m,\u001b[0m \u001b[0mvalid_accuracy\u001b[0m\u001b[0;34m)\u001b[0m\u001b[0;34m)\u001b[0m\u001b[0;34m\u001b[0m\u001b[0m\n\u001b[1;32m     33\u001b[0m \u001b[0;34m\u001b[0m\u001b[0m\n",
      "\u001b[0;32m/Users/didi/anaconda2/lib/python2.7/site-packages/tensorflow/python/client/session.pyc\u001b[0m in \u001b[0;36mrun\u001b[0;34m(self, fetches, feed_dict)\u001b[0m\n\u001b[1;32m    280\u001b[0m     \u001b[0;31m# Check session.\u001b[0m\u001b[0;34m\u001b[0m\u001b[0;34m\u001b[0m\u001b[0m\n\u001b[1;32m    281\u001b[0m     \u001b[0;32mif\u001b[0m \u001b[0mself\u001b[0m\u001b[0;34m.\u001b[0m\u001b[0m_closed\u001b[0m\u001b[0;34m:\u001b[0m\u001b[0;34m\u001b[0m\u001b[0m\n\u001b[0;32m--> 282\u001b[0;31m       \u001b[0;32mraise\u001b[0m \u001b[0mRuntimeError\u001b[0m\u001b[0;34m(\u001b[0m\u001b[0;34m'Attempted to use a closed Session.'\u001b[0m\u001b[0;34m)\u001b[0m\u001b[0;34m\u001b[0m\u001b[0m\n\u001b[0m\u001b[1;32m    283\u001b[0m \u001b[0;34m\u001b[0m\u001b[0m\n\u001b[1;32m    284\u001b[0m     \u001b[0;31m# Validate and process fetches.\u001b[0m\u001b[0;34m\u001b[0m\u001b[0;34m\u001b[0m\u001b[0m\n",
      "\u001b[0;31mRuntimeError\u001b[0m: Attempted to use a closed Session."
     ]
    }
   ],
   "source": [
    "steps = 1000\n",
    "_batch_size=128\n",
    "model_save_path = './tf_nn_model_file'\n",
    "train_subset = 100000\n",
    "# 参考资料：https://blog.csdn.net/wlzzhcsdn/article/details/78203991?reload\n",
    "\n",
    "print (train_labels.shape)\n",
    "train_dataset = train_dataset[:train_subset, :]\n",
    "train_labels = train_labels[:train_subset]\n",
    "\n",
    "with tf.Session(graph=graph) as session:\n",
    "    init = tf.initialize_all_variables()\n",
    "    print('Initialized')\n",
    "    # tf_nn_train_labels.shape[0]：样本数量\n",
    "    for step in range(steps):\n",
    "        \n",
    "        session.run(init)\n",
    "        offset = (step * _batch_size) % (train_labels.shape[0] - _batch_size)\n",
    "        # Generate a minibatch.\n",
    "\n",
    "        batch_dataset = train_dataset[offset:(offset + _batch_size), :]\n",
    "        batch_labels = train_labels[offset:(offset + _batch_size), :]\n",
    "        feed_dict = {input_x : batch_dataset, input_y : batch_labels, batch_size: _batch_size}\n",
    "        \n",
    "        _, l, train_accuracy = session.run([optimizer, loss, _accuracy], feed_dict=feed_dict)\n",
    "        if (step % 100 == 0):\n",
    "              print(\"Minibatch loss at step %d: %f, train accuracy: %f\" % (step, l, train_accuracy))\n",
    "\n",
    "\n",
    "valid_loss, valid_accuracy = session.run([loss, _accuracy], feed_dict=\n",
    "                                              {input_x: valid_dataset, input_y: valid_labels, batch_size: valid_dataset.shape[0]})\n",
    "print (\"Validation loss: %.1f%%, Validation accuracy: %f\" % (valid_loss, valid_accuracy))\n",
    "               \n",
    "print (\"test accuracy {0}\".format(session.run(_accuracy, feed_dict={\n",
    "            input_x: test_dataset, input_y: test_labels, batch_size:test_dataset.shape[0]})))        "
   ]
  },
  {
   "cell_type": "code",
   "execution_count": null,
   "metadata": {},
   "outputs": [],
   "source": []
  }
 ],
 "metadata": {
  "colab": {
   "default_view": {},
   "name": "2_fullyconnected.ipynb",
   "provenance": [],
   "version": "0.3.2",
   "views": {}
  },
  "kernelspec": {
   "display_name": "Python 2",
   "language": "python",
   "name": "python2"
  },
  "language_info": {
   "codemirror_mode": {
    "name": "ipython",
    "version": 2
   },
   "file_extension": ".py",
   "mimetype": "text/x-python",
   "name": "python",
   "nbconvert_exporter": "python",
   "pygments_lexer": "ipython2",
   "version": "2.7.15"
  }
 },
 "nbformat": 4,
 "nbformat_minor": 1
}
